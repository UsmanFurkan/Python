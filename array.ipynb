{
  "nbformat": 4,
  "nbformat_minor": 0,
  "metadata": {
    "colab": {
      "provenance": [],
      "authorship_tag": "ABX9TyO3KBCE6arj902BUbp/vJka",
      "include_colab_link": true
    },
    "kernelspec": {
      "name": "python3",
      "display_name": "Python 3"
    },
    "language_info": {
      "name": "python"
    }
  },
  "cells": [
    {
      "cell_type": "markdown",
      "metadata": {
        "id": "view-in-github",
        "colab_type": "text"
      },
      "source": [
        "<a href=\"https://colab.research.google.com/github/UsmanFurkan/Python/blob/main/array.ipynb\" target=\"_parent\"><img src=\"https://colab.research.google.com/assets/colab-badge.svg\" alt=\"Open In Colab\"/></a>"
      ]
    },
    {
      "cell_type": "markdown",
      "source": [
        "**Array in** **pyhton**"
      ],
      "metadata": {
        "id": "VqvNdIDJrOeL"
      }
    },
    {
      "cell_type": "code",
      "source": [
        "import array as ar\n",
        "\n",
        "a1=ar.array('i',[1,2,3,4,5,6])\n",
        "\n",
        "print(a1)\n",
        "\n",
        "a1.append(9)\n",
        "\n",
        "print(a1)\n",
        "\n",
        "del a1[-2]\n",
        "\n",
        "print(a1)\n",
        "\n",
        "len(a1)\n"
      ],
      "metadata": {
        "colab": {
          "base_uri": "https://localhost:8080/"
        },
        "id": "GrJRw8NhrStA",
        "outputId": "5d1d8976-b554-45a8-d248-d7aa3dc2c69c"
      },
      "execution_count": 6,
      "outputs": [
        {
          "output_type": "stream",
          "name": "stdout",
          "text": [
            "array('i', [1, 2, 3, 4, 5, 6])\n",
            "array('i', [1, 2, 3, 4, 5, 6, 9])\n",
            "array('i', [1, 2, 3, 4, 5, 9])\n"
          ]
        }
      ]
    },
    {
      "cell_type": "code",
      "source": [
        "a1.reverse()\n",
        "\n",
        "print(a1)"
      ],
      "metadata": {
        "colab": {
          "base_uri": "https://localhost:8080/"
        },
        "id": "mnTpIOwLs3mI",
        "outputId": "d9a4aa45-c44f-482a-bd66-0b1a852d3e0b"
      },
      "execution_count": 8,
      "outputs": [
        {
          "output_type": "stream",
          "name": "stdout",
          "text": [
            "array('i', [9, 5, 4, 3, 2, 1])\n"
          ]
        }
      ]
    }
  ]
}