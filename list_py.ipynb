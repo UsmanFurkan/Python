{
  "nbformat": 4,
  "nbformat_minor": 0,
  "metadata": {
    "colab": {
      "provenance": [],
      "authorship_tag": "ABX9TyN3/8k1OvPljoacbBj+53F5",
      "include_colab_link": true
    },
    "kernelspec": {
      "name": "python3",
      "display_name": "Python 3"
    },
    "language_info": {
      "name": "python"
    }
  },
  "cells": [
    {
      "cell_type": "markdown",
      "metadata": {
        "id": "view-in-github",
        "colab_type": "text"
      },
      "source": [
        "<a href=\"https://colab.research.google.com/github/UsmanFurkan/Python/blob/main/list_py.ipynb\" target=\"_parent\"><img src=\"https://colab.research.google.com/assets/colab-badge.svg\" alt=\"Open In Colab\"/></a>"
      ]
    },
    {
      "cell_type": "code",
      "execution_count": null,
      "metadata": {
        "colab": {
          "base_uri": "https://localhost:8080/",
          "height": 87
        },
        "id": "J7PDZ5bkm8ic",
        "outputId": "49d12589-50ca-4e18-9dd8-adc422dad2a1"
      },
      "outputs": [
        {
          "output_type": "stream",
          "name": "stdout",
          "text": [
            "['usman', 2, 3, 5, 'ahmed']\n",
            "['usman', 6, 3, 5, 'ahmed']\n",
            "['usman', 6, 3, 5, 'ahmed', 'furkan']\n"
          ]
        },
        {
          "output_type": "execute_result",
          "data": {
            "text/plain": [
              "'furkan'"
            ],
            "application/vnd.google.colaboratory.intrinsic+json": {
              "type": "string"
            }
          },
          "metadata": {},
          "execution_count": 5
        }
      ],
      "source": [
        "ls = [\"usman\",2,3,5,\"ahmed\"]\n",
        "\n",
        "print(ls)\n",
        "\n",
        "ls[1]=6\n",
        "\n",
        "print(ls)\n",
        "\n",
        "ls.append('furkan')\n",
        "\n",
        "print(ls)\n",
        "\n",
        "import sys\n",
        "\n",
        "sys.getsizeof(ls)\n",
        "\n",
        "ls.pop()\n",
        "ls.pop(1)"
      ]
    },
    {
      "cell_type": "code",
      "source": [
        "# list values from users\n",
        "l1=[]\n",
        "\n",
        "n=int(input(\"Enter the index number: \"))\n",
        "\n",
        "for x in range(n):\n",
        "  new=input()\n",
        "  l1.append(new)\n",
        "\n",
        "print(l1)"
      ],
      "metadata": {
        "colab": {
          "base_uri": "https://localhost:8080/"
        },
        "id": "5LB1VGYnnNzU",
        "outputId": "247e852a-75d1-4c98-98f3-02b2e2b4adb1"
      },
      "execution_count": null,
      "outputs": [
        {
          "output_type": "stream",
          "name": "stdout",
          "text": [
            "Enter the index number: 3\n",
            "4\n",
            "6\n",
            "3\n",
            "['4', '6', '3']\n"
          ]
        }
      ]
    },
    {
      "cell_type": "code",
      "source": [
        "# copy()\n",
        "# append()\n",
        "# extend()\n",
        "# insert()\n",
        "# count()\n",
        "# sort()\n",
        "# reverse()\n",
        "# remove()\n",
        "# pop()\n",
        "# clear()\n",
        "\n",
        "\n",
        "\n"
      ],
      "metadata": {
        "id": "PDiXlkd0sSaQ"
      },
      "execution_count": null,
      "outputs": []
    },
    {
      "cell_type": "markdown",
      "source": [
        "## **List comprehension**"
      ],
      "metadata": {
        "id": "KosOj_kq7978"
      }
    },
    {
      "cell_type": "code",
      "source": [
        "square=[x**2 for x in range(10)]\n",
        "print(square)"
      ],
      "metadata": {
        "colab": {
          "base_uri": "https://localhost:8080/"
        },
        "id": "mjqQtANC8Ggf",
        "outputId": "0b84187d-a8ca-496f-f59b-9ddb61311cc1"
      },
      "execution_count": 1,
      "outputs": [
        {
          "output_type": "stream",
          "name": "stdout",
          "text": [
            "[0, 1, 4, 9, 16, 25, 36, 49, 64, 81]\n"
          ]
        }
      ]
    },
    {
      "cell_type": "code",
      "source": [
        "even=[x for x in range(20) if x%2==0]\n",
        "print(even)"
      ],
      "metadata": {
        "colab": {
          "base_uri": "https://localhost:8080/"
        },
        "id": "LGuqQoYa8r_5",
        "outputId": "66bd6507-b168-4a16-cc98-d4c311322df9"
      },
      "execution_count": 3,
      "outputs": [
        {
          "output_type": "stream",
          "name": "stdout",
          "text": [
            "[0, 2, 4, 6, 8, 10, 12, 14, 16, 18]\n"
          ]
        }
      ]
    },
    {
      "cell_type": "code",
      "source": [
        "matrix=[[j for j in range(5)] for i in range(3)]\n",
        "\n",
        "print(matrix)"
      ],
      "metadata": {
        "colab": {
          "base_uri": "https://localhost:8080/"
        },
        "id": "5N3qYw23-HuH",
        "outputId": "42c6774a-da9b-4729-b62b-cd1f0f25f438"
      },
      "execution_count": 4,
      "outputs": [
        {
          "output_type": "stream",
          "name": "stdout",
          "text": [
            "[[0, 1, 2, 3, 4], [0, 1, 2, 3, 4], [0, 1, 2, 3, 4]]\n"
          ]
        }
      ]
    },
    {
      "cell_type": "code",
      "source": [
        "name=[\"usman\",\"ahmed\",\"furkan\"]\n",
        "\n",
        "lenght=[len(name) for n in name]\n",
        "\n",
        "print(lenght)"
      ],
      "metadata": {
        "colab": {
          "base_uri": "https://localhost:8080/"
        },
        "id": "pactnyNH-sGE",
        "outputId": "d691bed3-d26f-4517-81fb-fb9a12ac3b4f"
      },
      "execution_count": 5,
      "outputs": [
        {
          "output_type": "stream",
          "name": "stdout",
          "text": [
            "[3, 3, 3]\n"
          ]
        }
      ]
    }
  ]
}