{
  "nbformat": 4,
  "nbformat_minor": 0,
  "metadata": {
    "colab": {
      "provenance": [],
      "authorship_tag": "ABX9TyOeRBuxMrv5KQyGgALjVsxh",
      "include_colab_link": true
    },
    "kernelspec": {
      "name": "python3",
      "display_name": "Python 3"
    },
    "language_info": {
      "name": "python"
    }
  },
  "cells": [
    {
      "cell_type": "markdown",
      "metadata": {
        "id": "view-in-github",
        "colab_type": "text"
      },
      "source": [
        "<a href=\"https://colab.research.google.com/github/UsmanFurkan/Python/blob/main/set_py.ipynb\" target=\"_parent\"><img src=\"https://colab.research.google.com/assets/colab-badge.svg\" alt=\"Open In Colab\"/></a>"
      ]
    },
    {
      "cell_type": "markdown",
      "source": [
        "Basic built in function for set\n",
        "\n",
        "s.add()\n",
        "s.update()\n",
        "s.remove()\n",
        "s.descard()"
      ],
      "metadata": {
        "id": "jPNJh9QUb9I8"
      }
    },
    {
      "cell_type": "code",
      "source": [
        "s={1,2,3,4,5}\n",
        "\n",
        "s.add(10)\n",
        "\n",
        "s3=frozenset((s))\n",
        "\n",
        "print(type(s3))\n",
        "print(\"\\n\",s3)\n"
      ],
      "metadata": {
        "colab": {
          "base_uri": "https://localhost:8080/"
        },
        "id": "noHZSD4xcNiU",
        "outputId": "73c80200-e14b-4d59-bb8e-fc63d2283173"
      },
      "execution_count": 8,
      "outputs": [
        {
          "output_type": "stream",
          "name": "stdout",
          "text": [
            "<class 'frozenset'>\n",
            "\n",
            " frozenset({1, 2, 3, 4, 5, 10})\n"
          ]
        }
      ]
    },
    {
      "cell_type": "code",
      "source": [
        "s1=frozenset({1,2,3,4,5,6})\n",
        "s2=frozenset({2,5,7,9,10})\n",
        "\n",
        "print(s1.union(s2))\n",
        "\n",
        "print(s1.intersection(s2))"
      ],
      "metadata": {
        "colab": {
          "base_uri": "https://localhost:8080/"
        },
        "id": "j8AYLpU4ePdu",
        "outputId": "90f789c5-0688-4387-ecfa-54968ef57492"
      },
      "execution_count": 9,
      "outputs": [
        {
          "output_type": "stream",
          "name": "stdout",
          "text": [
            "frozenset({1, 2, 3, 4, 5, 6, 7, 9, 10})\n",
            "frozenset({2, 5})\n"
          ]
        }
      ]
    },
    {
      "cell_type": "code",
      "source": [
        "l1={1,2,3}\n",
        "l2={2,3,4}\n",
        "\n",
        "print(l1.intersection(l2))"
      ],
      "metadata": {
        "colab": {
          "base_uri": "https://localhost:8080/"
        },
        "id": "Up2oJAMhezlf",
        "outputId": "a43121eb-ae98-46c7-b2e8-902799e8ab19"
      },
      "execution_count": 10,
      "outputs": [
        {
          "output_type": "stream",
          "name": "stdout",
          "text": [
            "{2, 3}\n"
          ]
        }
      ]
    },
    {
      "cell_type": "code",
      "source": [
        "sa={1,2,3,4,5}\n",
        "fa={4,2,5,8,9,'a','b'}\n",
        "\n",
        "print(sa.difference(fa))\n",
        "print(fa.difference(sa))\n",
        "\n",
        "print(sa.issubset(fa))\n",
        "print(fa.issubset(sa))"
      ],
      "metadata": {
        "colab": {
          "base_uri": "https://localhost:8080/"
        },
        "id": "afY9yK1IkMdD",
        "outputId": "b57c490e-9942-4ba8-f3ea-f56a04e76718"
      },
      "execution_count": 18,
      "outputs": [
        {
          "output_type": "stream",
          "name": "stdout",
          "text": [
            "{1, 3}\n",
            "{8, 9, 'a', 'b'}\n",
            "False\n",
            "False\n"
          ]
        }
      ]
    },
    {
      "cell_type": "code",
      "source": [
        "ss1={1,2,3,4,5,6,7}\n",
        "ss2={0,2,4,8,9,10}\n",
        "\n",
        "ss1.symmetric_difference(ss2)"
      ],
      "metadata": {
        "colab": {
          "base_uri": "https://localhost:8080/"
        },
        "id": "XBbSlVfGmJ0J",
        "outputId": "125ecbfe-4da1-4d40-b2a9-0bbfd1087d1a"
      },
      "execution_count": 19,
      "outputs": [
        {
          "output_type": "execute_result",
          "data": {
            "text/plain": [
              "{0, 1, 3, 5, 6, 7, 8, 9, 10}"
            ]
          },
          "metadata": {},
          "execution_count": 19
        }
      ]
    }
  ]
}