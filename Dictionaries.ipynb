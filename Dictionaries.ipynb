{
  "nbformat": 4,
  "nbformat_minor": 0,
  "metadata": {
    "colab": {
      "provenance": [],
      "authorship_tag": "ABX9TyMZwib2SRkV6UAJ0nKPrTA4",
      "include_colab_link": true
    },
    "kernelspec": {
      "name": "python3",
      "display_name": "Python 3"
    },
    "language_info": {
      "name": "python"
    }
  },
  "cells": [
    {
      "cell_type": "markdown",
      "metadata": {
        "id": "view-in-github",
        "colab_type": "text"
      },
      "source": [
        "<a href=\"https://colab.research.google.com/github/UsmanFurkan/Python/blob/main/Dictionaries.ipynb\" target=\"_parent\"><img src=\"https://colab.research.google.com/assets/colab-badge.svg\" alt=\"Open In Colab\"/></a>"
      ]
    },
    {
      "cell_type": "code",
      "execution_count": 1,
      "metadata": {
        "colab": {
          "base_uri": "https://localhost:8080/"
        },
        "id": "mZZI47Zjtnaa",
        "outputId": "d6f11e46-f816-4697-80e4-4db99623f084"
      },
      "outputs": [
        {
          "output_type": "stream",
          "name": "stdout",
          "text": [
            "{'name': 'Usman Ahmed Furkan', 'versity': 'NEUB'}\n"
          ]
        }
      ],
      "source": [
        "dic={\n",
        "    'name':'Usman Ahmed Furkan',\n",
        "    'versity':'NEUB'\n",
        "}\n",
        "\n",
        "print(dic)"
      ]
    },
    {
      "cell_type": "code",
      "source": [
        "print(dic.keys())\n",
        "\n",
        "print(dic.values())"
      ],
      "metadata": {
        "colab": {
          "base_uri": "https://localhost:8080/"
        },
        "id": "VeaIygBOwM1a",
        "outputId": "948cf35a-0130-4299-e168-a7eac2853900"
      },
      "execution_count": 4,
      "outputs": [
        {
          "output_type": "stream",
          "name": "stdout",
          "text": [
            "dict_keys(['name', 'versity'])\n",
            "dict_values(['Usman Ahmed Furkan', 'NEUB'])\n"
          ]
        }
      ]
    },
    {
      "cell_type": "code",
      "source": [
        "dic2=dic.copy()\n",
        "\n",
        "print(dic2)"
      ],
      "metadata": {
        "colab": {
          "base_uri": "https://localhost:8080/"
        },
        "id": "fkoUK-VxwYuP",
        "outputId": "46f790ae-2ba8-4806-861f-fb889b310476"
      },
      "execution_count": 5,
      "outputs": [
        {
          "output_type": "stream",
          "name": "stdout",
          "text": [
            "{'name': 'Usman Ahmed Furkan', 'versity': 'NEUB'}\n"
          ]
        }
      ]
    },
    {
      "cell_type": "code",
      "source": [
        "type(dic)"
      ],
      "metadata": {
        "colab": {
          "base_uri": "https://localhost:8080/"
        },
        "id": "lpbaTXMmwgXw",
        "outputId": "8d403b48-a043-4802-95f7-2764bd0a366b"
      },
      "execution_count": 6,
      "outputs": [
        {
          "output_type": "execute_result",
          "data": {
            "text/plain": [
              "dict"
            ]
          },
          "metadata": {},
          "execution_count": 6
        }
      ]
    },
    {
      "cell_type": "code",
      "source": [
        "dic['dep']='CSE'\n",
        "\n",
        "print(dic)"
      ],
      "metadata": {
        "colab": {
          "base_uri": "https://localhost:8080/"
        },
        "id": "cga9Z1adwnUe",
        "outputId": "59dcaf4c-5fad-4a13-844d-b439c069b3ad"
      },
      "execution_count": 7,
      "outputs": [
        {
          "output_type": "stream",
          "name": "stdout",
          "text": [
            "{'name': 'Usman Ahmed Furkan', 'versity': 'NEUB', 'dep': 'CSE'}\n"
          ]
        }
      ]
    },
    {
      "cell_type": "code",
      "source": [
        "dic.update({'dep':'Computer Science And Engineering'})\n",
        "\n",
        "print(dic)"
      ],
      "metadata": {
        "colab": {
          "base_uri": "https://localhost:8080/"
        },
        "id": "kyF-_4XYxcNJ",
        "outputId": "675abfa3-e802-4417-e8ca-8628c9b71f5f"
      },
      "execution_count": 8,
      "outputs": [
        {
          "output_type": "stream",
          "name": "stdout",
          "text": [
            "{'name': 'Usman Ahmed Furkan', 'versity': 'NEUB', 'dep': 'Computer Science And Engineering'}\n"
          ]
        }
      ]
    },
    {
      "cell_type": "code",
      "source": [
        "dic.popitem()\n",
        "\n",
        "print(dic)"
      ],
      "metadata": {
        "colab": {
          "base_uri": "https://localhost:8080/"
        },
        "id": "LCwPEZk7xzcd",
        "outputId": "6ec15e01-56f2-4950-be4e-79045fd17581"
      },
      "execution_count": 9,
      "outputs": [
        {
          "output_type": "stream",
          "name": "stdout",
          "text": [
            "{'name': 'Usman Ahmed Furkan', 'versity': 'NEUB'}\n"
          ]
        }
      ]
    },
    {
      "cell_type": "code",
      "source": [
        "dic.pop('versity')"
      ],
      "metadata": {
        "colab": {
          "base_uri": "https://localhost:8080/",
          "height": 35
        },
        "id": "v77HiYkpyq3d",
        "outputId": "b6ae5d14-3a1f-40f8-f5e0-8ecac6c17ad2"
      },
      "execution_count": 10,
      "outputs": [
        {
          "output_type": "execute_result",
          "data": {
            "text/plain": [
              "'NEUB'"
            ],
            "application/vnd.google.colaboratory.intrinsic+json": {
              "type": "string"
            }
          },
          "metadata": {},
          "execution_count": 10
        }
      ]
    },
    {
      "cell_type": "code",
      "source": [
        "dic['dept']='CSE'\n",
        "\n",
        "print(dic)"
      ],
      "metadata": {
        "colab": {
          "base_uri": "https://localhost:8080/"
        },
        "id": "lC-Q75q0ywAF",
        "outputId": "70097301-2687-4d10-d41b-bb32c9f424ba"
      },
      "execution_count": 11,
      "outputs": [
        {
          "output_type": "stream",
          "name": "stdout",
          "text": [
            "{'name': 'Usman Ahmed Furkan', 'dept': 'CSE'}\n"
          ]
        }
      ]
    },
    {
      "cell_type": "code",
      "source": [
        "del dic['name']"
      ],
      "metadata": {
        "id": "uStP-hQRy4Yq"
      },
      "execution_count": 12,
      "outputs": []
    },
    {
      "cell_type": "code",
      "source": [
        "dic['country']='Bangladesh'"
      ],
      "metadata": {
        "id": "3rU5XT3TzBYB"
      },
      "execution_count": 13,
      "outputs": []
    },
    {
      "cell_type": "code",
      "source": [
        "for x in dic:\n",
        "  print(dic[x])"
      ],
      "metadata": {
        "colab": {
          "base_uri": "https://localhost:8080/"
        },
        "id": "NOT_W-MczOYy",
        "outputId": "efa33ec5-2f71-4719-aa59-f2b1dc93d8b7"
      },
      "execution_count": 14,
      "outputs": [
        {
          "output_type": "stream",
          "name": "stdout",
          "text": [
            "CSE\n",
            "Bangladesh\n"
          ]
        }
      ]
    },
    {
      "cell_type": "code",
      "source": [
        "for x in dic:\n",
        "  print(x)"
      ],
      "metadata": {
        "colab": {
          "base_uri": "https://localhost:8080/"
        },
        "id": "h8sqro8gzX6W",
        "outputId": "ed94ed35-1412-4872-f196-adbcae5b09c9"
      },
      "execution_count": 15,
      "outputs": [
        {
          "output_type": "stream",
          "name": "stdout",
          "text": [
            "dept\n",
            "country\n"
          ]
        }
      ]
    },
    {
      "cell_type": "code",
      "source": [
        "d1=list(dic.keys())"
      ],
      "metadata": {
        "id": "EsfGfKmOzwQZ"
      },
      "execution_count": 16,
      "outputs": []
    },
    {
      "cell_type": "code",
      "source": [
        "d1"
      ],
      "metadata": {
        "colab": {
          "base_uri": "https://localhost:8080/"
        },
        "id": "ObYim0Iaz1KJ",
        "outputId": "3eb7f1dc-b1d3-4e1d-ba7d-edb0634e02c6"
      },
      "execution_count": 17,
      "outputs": [
        {
          "output_type": "execute_result",
          "data": {
            "text/plain": [
              "['dept', 'country']"
            ]
          },
          "metadata": {},
          "execution_count": 17
        }
      ]
    },
    {
      "cell_type": "code",
      "source": [
        "d2=list(dic.values())\n",
        "\n",
        "print(d2)"
      ],
      "metadata": {
        "colab": {
          "base_uri": "https://localhost:8080/"
        },
        "id": "b9a2rQggz2r_",
        "outputId": "4aeff855-9677-461a-cab6-29da7115baf4"
      },
      "execution_count": 18,
      "outputs": [
        {
          "output_type": "stream",
          "name": "stdout",
          "text": [
            "['CSE', 'Bangladesh']\n"
          ]
        }
      ]
    },
    {
      "cell_type": "code",
      "source": [
        "#Dictionaries from users input\n",
        "\n",
        "n=int(input())\n",
        "\n",
        "dis={}\n",
        "\n",
        "for x in range(n):\n",
        "  keys=input()\n",
        "  values=input()\n",
        "  dis[keys]=values\n",
        "\n",
        "print(dis)"
      ],
      "metadata": {
        "colab": {
          "base_uri": "https://localhost:8080/"
        },
        "id": "RXrFLDDS1G7s",
        "outputId": "2eb9a5a8-623d-465b-e00f-968bf32e9f44"
      },
      "execution_count": 19,
      "outputs": [
        {
          "output_type": "stream",
          "name": "stdout",
          "text": [
            "3\n",
            "name\n",
            "Furkan\n",
            "age\n",
            "21\n",
            "versity\n",
            "NEUB\n",
            "{'name': 'Furkan', 'age': '21', 'versity': 'NEUB'}\n"
          ]
        }
      ]
    }
  ]
}